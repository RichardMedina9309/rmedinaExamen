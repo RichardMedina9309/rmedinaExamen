{
  "nbformat": 4,
  "nbformat_minor": 0,
  "metadata": {
    "colab": {
      "provenance": [],
      "authorship_tag": "ABX9TyNPs6fXrAzFBcanOCiyuSLq",
      "include_colab_link": true
    },
    "kernelspec": {
      "name": "python3",
      "display_name": "Python 3"
    },
    "language_info": {
      "name": "python"
    }
  },
  "cells": [
    {
      "cell_type": "markdown",
      "metadata": {
        "id": "view-in-github",
        "colab_type": "text"
      },
      "source": [
        "<a href=\"https://colab.research.google.com/github/RichardMedina9309/rmedinaExamen/blob/master/Semana7_Miercoles.ipynb\" target=\"_parent\"><img src=\"https://colab.research.google.com/assets/colab-badge.svg\" alt=\"Open In Colab\"/></a>"
      ]
    },
    {
      "cell_type": "code",
      "execution_count": null,
      "metadata": {
        "colab": {
          "base_uri": "https://localhost:8080/"
        },
        "id": "FJg19WmuIHLo",
        "outputId": "97c733f6-1067-4116-cd2d-e64d97a84a3e"
      },
      "outputs": [
        {
          "output_type": "stream",
          "name": "stdout",
          "text": [
            "Looking in indexes: https://pypi.org/simple, https://us-python.pkg.dev/colab-wheels/public/simple/\n",
            "Requirement already satisfied: opencv-python in /usr/local/lib/python3.10/dist-packages (4.7.0.72)\n",
            "Requirement already satisfied: numpy>=1.21.2 in /usr/local/lib/python3.10/dist-packages (from opencv-python) (1.22.4)\n"
          ]
        }
      ],
      "source": [
        "!pip install opencv-python"
      ]
    },
    {
      "cell_type": "code",
      "source": [
        "!pip install opencv-contrib-python"
      ],
      "metadata": {
        "colab": {
          "base_uri": "https://localhost:8080/"
        },
        "id": "drnXQZTnIhra",
        "outputId": "65646328-9e22-4d2b-bc72-8b5cbe182079"
      },
      "execution_count": null,
      "outputs": [
        {
          "output_type": "stream",
          "name": "stdout",
          "text": [
            "Looking in indexes: https://pypi.org/simple, https://us-python.pkg.dev/colab-wheels/public/simple/\n",
            "Requirement already satisfied: opencv-contrib-python in /usr/local/lib/python3.10/dist-packages (4.7.0.72)\n",
            "Requirement already satisfied: numpy>=1.21.2 in /usr/local/lib/python3.10/dist-packages (from opencv-contrib-python) (1.22.4)\n"
          ]
        }
      ]
    },
    {
      "cell_type": "code",
      "source": [
        "import cv2\n",
        "import numpy as np\n",
        "from google.colab.patches import cv2_imshow\n",
        "\n",
        "#Crea arreglso que son la base de una imagen\n",
        "img1 = np.zeros((6,8,1), np.uint8)\n",
        "img2 = np.ones((6,8,1), np.uint8)\n",
        "img3 = 200*np.ones((6,8,1), np.uint8)\n",
        "\n",
        "#Mostrar imágenes\n",
        "cv2_imshow(img1)\n",
        "cv2_imshow(img2)\n",
        "cv2_imshow(img3)\n",
        "\n",
        "#Cerrar las ventanas con tecla esc\n",
        "cv2.waitkey(0)\n",
        "cv2.destroyAllWindows()\n"
      ],
      "metadata": {
        "colab": {
          "base_uri": "https://localhost:8080/",
          "height": 279
        },
        "id": "GQp9p2eFI2_K",
        "outputId": "488a3147-cf9b-4cba-cd72-94c3dc608a2e"
      },
      "execution_count": null,
      "outputs": [
        {
          "output_type": "display_data",
          "data": {
            "text/plain": [
              "<PIL.Image.Image image mode=RGB size=8x6 at 0x7F7B86B4ECB0>"
            ],
            "image/png": "[encoded data removed]"
          },
          "metadata": {}
        },
        {
          "output_type": "display_data",
          "data": {
            "text/plain": [
              "<PIL.Image.Image image mode=RGB size=8x6 at 0x7F7B86B4ECB0>"
            ],
            "image/png": "[encoded data removed]"
          },
          "metadata": {}
        },
        {
          "output_type": "display_data",
          "data": {
            "text/plain": [
              "<PIL.Image.Image image mode=RGB size=8x6 at 0x7F7B8F427010>"
            ],
            "image/png": "[encoded data removed]"
          },
          "metadata": {}
        },
        {
          "output_type": "error",
          "ename": "AttributeError",
          "evalue": "ignored",
          "traceback": [
            "\u001b[0;31m---------------------------------------------------------------------------\u001b[0m",
            "\u001b[0;31mAttributeError\u001b[0m                            Traceback (most recent call last)",
            "\u001b[0;32m<ipython-input-8-b8ed8313f306>\u001b[0m in \u001b[0;36m<cell line: 16>\u001b[0;34m()\u001b[0m\n\u001b[1;32m     14\u001b[0m \u001b[0;34m\u001b[0m\u001b[0m\n\u001b[1;32m     15\u001b[0m \u001b[0;31m#Cerrar las ventanas con tecla esc\u001b[0m\u001b[0;34m\u001b[0m\u001b[0;34m\u001b[0m\u001b[0m\n\u001b[0;32m---> 16\u001b[0;31m \u001b[0mcv2\u001b[0m\u001b[0;34m.\u001b[0m\u001b[0mwaitkey\u001b[0m\u001b[0;34m(\u001b[0m\u001b[0;36m0\u001b[0m\u001b[0;34m)\u001b[0m\u001b[0;34m\u001b[0m\u001b[0;34m\u001b[0m\u001b[0m\n\u001b[0m\u001b[1;32m     17\u001b[0m \u001b[0mcv2\u001b[0m\u001b[0;34m.\u001b[0m\u001b[0mdestroyAllWindows\u001b[0m\u001b[0;34m(\u001b[0m\u001b[0;34m)\u001b[0m\u001b[0;34m\u001b[0m\u001b[0;34m\u001b[0m\u001b[0m\n",
            "\u001b[0;31mAttributeError\u001b[0m: module 'cv2' has no attribute 'waitkey'"
          ]
        }
      ]
    },
    {
      "cell_type": "code",
      "source": [
        "import cv2\n",
        "import numpy as np\n",
        "\n",
        "img1 = np.zeros((6,8,1), np.uint8)\n",
        "\n",
        "\n",
        "#Colocar valores en pixeles específicos\n",
        "img1[1,1] = 50\n",
        "img1[4,4] = 200\n",
        "img1[3,5] = 75\n",
        "img1[2,3] = 255\n",
        "\n",
        "#Guardar la imagen\n",
        "cv2.imwrite('MiImagenPixeles.jpg', img1)"
      ],
      "metadata": {
        "colab": {
          "base_uri": "https://localhost:8080/"
        },
        "id": "CMg_6PJCKWc4",
        "outputId": "5e9df648-156a-49e1-bae9-989564bd40aa"
      },
      "execution_count": null,
      "outputs": [
        {
          "output_type": "execute_result",
          "data": {
            "text/plain": [
              "True"
            ]
          },
          "metadata": {},
          "execution_count": 9
        }
      ]
    },
    {
      "cell_type": "code",
      "source": [
        "import cv2\n",
        "import numpy as np\n",
        "\n",
        "img1 = np.zeros((6,8,1), np.uint8)\n",
        "img2 = 255*np.ones((6,8,3), np.uint8)\n",
        "\n",
        "img1[1,1] = (50, 50, 50)\n",
        "img1[4,4] = (200, 150, 10)\n",
        "img1[3,5] = (75, 100, 255)\n",
        "img1[2,3] = (255, 50, 100)\n",
        "\n",
        "img2[1,1] = (0, 255, 255)\n",
        "img2[4,4] = (30, 50, 255)\n",
        "img2[3,5] = (255, 255, 50)\n",
        "img2[2,3] = (150, 50, 100)\n",
        "\n",
        "cv2.imshow(img1)\n",
        "cv2.imshow(img2)\n",
        "\n",
        "cv2.waitkey(0)\n",
        "cv2.destroyAllWindows()"
      ],
      "metadata": {
        "colab": {
          "base_uri": "https://localhost:8080/",
          "height": 246
        },
        "id": "BGMnu2wGLfLb",
        "outputId": "2f07dbdd-55c2-4f06-e1e7-8b903d32e19d"
      },
      "execution_count": null,
      "outputs": [
        {
          "output_type": "error",
          "ename": "ValueError",
          "evalue": "ignored",
          "traceback": [
            "\u001b[0;31m---------------------------------------------------------------------------\u001b[0m",
            "\u001b[0;31mValueError\u001b[0m                                Traceback (most recent call last)",
            "\u001b[0;32m<ipython-input-10-765c8ef4a981>\u001b[0m in \u001b[0;36m<cell line: 7>\u001b[0;34m()\u001b[0m\n\u001b[1;32m      5\u001b[0m \u001b[0mimg2\u001b[0m \u001b[0;34m=\u001b[0m \u001b[0;36m255\u001b[0m\u001b[0;34m*\u001b[0m\u001b[0mnp\u001b[0m\u001b[0;34m.\u001b[0m\u001b[0mones\u001b[0m\u001b[0;34m(\u001b[0m\u001b[0;34m(\u001b[0m\u001b[0;36m6\u001b[0m\u001b[0;34m,\u001b[0m\u001b[0;36m8\u001b[0m\u001b[0;34m,\u001b[0m\u001b[0;36m3\u001b[0m\u001b[0;34m)\u001b[0m\u001b[0;34m,\u001b[0m \u001b[0mnp\u001b[0m\u001b[0;34m.\u001b[0m\u001b[0muint8\u001b[0m\u001b[0;34m)\u001b[0m\u001b[0;34m\u001b[0m\u001b[0;34m\u001b[0m\u001b[0m\n\u001b[1;32m      6\u001b[0m \u001b[0;34m\u001b[0m\u001b[0m\n\u001b[0;32m----> 7\u001b[0;31m \u001b[0mimg1\u001b[0m\u001b[0;34m[\u001b[0m\u001b[0;36m1\u001b[0m\u001b[0;34m,\u001b[0m\u001b[0;36m1\u001b[0m\u001b[0;34m]\u001b[0m \u001b[0;34m=\u001b[0m \u001b[0;34m(\u001b[0m\u001b[0;36m50\u001b[0m\u001b[0;34m,\u001b[0m \u001b[0;36m50\u001b[0m\u001b[0;34m,\u001b[0m \u001b[0;36m50\u001b[0m\u001b[0;34m)\u001b[0m\u001b[0;34m\u001b[0m\u001b[0;34m\u001b[0m\u001b[0m\n\u001b[0m\u001b[1;32m      8\u001b[0m \u001b[0mimg1\u001b[0m\u001b[0;34m[\u001b[0m\u001b[0;36m4\u001b[0m\u001b[0;34m,\u001b[0m\u001b[0;36m4\u001b[0m\u001b[0;34m]\u001b[0m \u001b[0;34m=\u001b[0m \u001b[0;34m(\u001b[0m\u001b[0;36m200\u001b[0m\u001b[0;34m,\u001b[0m \u001b[0;36m150\u001b[0m\u001b[0;34m,\u001b[0m \u001b[0;36m10\u001b[0m\u001b[0;34m)\u001b[0m\u001b[0;34m\u001b[0m\u001b[0;34m\u001b[0m\u001b[0m\n\u001b[1;32m      9\u001b[0m \u001b[0mimg1\u001b[0m\u001b[0;34m[\u001b[0m\u001b[0;36m3\u001b[0m\u001b[0;34m,\u001b[0m\u001b[0;36m5\u001b[0m\u001b[0;34m]\u001b[0m \u001b[0;34m=\u001b[0m \u001b[0;34m(\u001b[0m\u001b[0;36m75\u001b[0m\u001b[0;34m,\u001b[0m \u001b[0;36m100\u001b[0m\u001b[0;34m,\u001b[0m \u001b[0;36m255\u001b[0m\u001b[0;34m)\u001b[0m\u001b[0;34m\u001b[0m\u001b[0;34m\u001b[0m\u001b[0m\n",
            "\u001b[0;31mValueError\u001b[0m: could not broadcast input array from shape (3,) into shape (1,)"
          ]
        }
      ]
    },
    {
      "cell_type": "code",
      "source": [
        "import cv2\n",
        "import numpy as np\n",
        "\n",
        "img2 = 255*np.ones((6,8,3), np.uint8)\n",
        "img2 = 255*np.ones((6,8,3), np.uint16)*256\n",
        "img2 = 255*np.ones((6,8,3), np.uint32)/256\n",
        "\n",
        "img1[1,1] = (50, 50, 50)\n",
        "img1[4,4] = (200, 150, 10)\n",
        "img1[3,5] = (75, 100, 255)\n",
        "img1[2,3] = (255, 50, 100)\n",
        "\n",
        "img2[1,1] = (0*256, 255*256, 255*256)\n",
        "img2[4,4] = (30*256, 50*256, 255*256)\n",
        "img2[3,5] = (255*256, 255*256, 50*256)\n",
        "img2[2,3] = (150*256, 50*256, 100*256)\n",
        "\n",
        "img3[1,1] = (0/256, 255/256, 255/256)\n",
        "img3[4,4] = (30/256, 50/256, 255/256)\n",
        "img3[3,5] = (255/256, 255/256, 50/256)\n",
        "img3[2,3] = (150/256, 50/256, 100/256)\n",
        "\n",
        "cv2.imshow(img1)\n",
        "cv2.imshow(img2)\n",
        "cv2.imshow(img3)\n",
        "\n",
        "cv2.waitkey(0)\n",
        "cv2.destroyAllWindows()"
      ],
      "metadata": {
        "id": "_ymqU8qYMyzk"
      },
      "execution_count": null,
      "outputs": []
    },
    {
      "cell_type": "code",
      "source": [
        "!wget https://www.hagenhoff.de/fileadmin/_processed_/6/6/csm_Hagenhoff_Werbeagentur_Blog_Personamarketing_4d694da456.jpg"
      ],
      "metadata": {
        "id": "ujNqT2BSRnzN"
      },
      "execution_count": null,
      "outputs": []
    },
    {
      "cell_type": "code",
      "source": [
        "!wget https://github.com/kipr/opencv/blob/master/data/haarcascades/haarcascade_frontalface_default.xml"
      ],
      "metadata": {
        "id": "VmHVMo0SR3zo"
      },
      "execution_count": null,
      "outputs": []
    },
    {
      "cell_type": "code",
      "source": [
        "!wget https://eclecti.cc/files/2008/03/haarcascade_frontalface_alt.xml"
      ],
      "metadata": {
        "id": "9B8ydjpUSA8g"
      },
      "execution_count": null,
      "outputs": []
    },
    {
      "cell_type": "code",
      "source": [
        "import cv2\n",
        "\n",
        "def detect(path):\n",
        "    img = cv2.imread(path)\n",
        "    # Pasamos la ruta del XML\n",
        "    cascade = cv2.CascadeClassifier(\"haarcascade_frontalface_alt.xml\")\n",
        "    rects = cascade.detectMultiScale(img, 1.3, 4, cv2.CASCADE_SCALE_IMAGE, (20,20))\n",
        "\n",
        "    if len(rects) == 0:\n",
        "        return [], img\n",
        "    rects[:, 2:] += rects[:, :2]\n",
        "    return rects, img\n",
        "\n",
        "def box(rects, img):\n",
        "    for x1, y1, x2, y2 in rects:\n",
        "        cv2.rectangle(img, (x1, y1), (x2, y2), (127, 255, 0), 2)\n",
        "    # Ruta donde guardaremos la imagen con la deteccion de rostros\n",
        "    cv2.imwrite('resultadofoto.jpg', img);\n",
        "\n",
        "# Pasamos la imagen que quremos detectar\n",
        "rects, img = detect(\"foto.jpg\")\n",
        "box(rects, img)"
      ],
      "metadata": {
        "id": "5IQz0WsASz5O"
      },
      "execution_count": null,
      "outputs": []
    }
  ]
}