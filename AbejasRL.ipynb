{
  "nbformat": 4,
  "nbformat_minor": 0,
  "metadata": {
    "colab": {
      "provenance": [],
      "authorship_tag": "ABX9TyOMOzNJVawJ1KigejgVo/14",
      "include_colab_link": true
    },
    "kernelspec": {
      "name": "python3",
      "display_name": "Python 3"
    },
    "language_info": {
      "name": "python"
    }
  },
  "cells": [
    {
      "cell_type": "markdown",
      "metadata": {
        "id": "view-in-github",
        "colab_type": "text"
      },
      "source": [
        "<a href=\"https://colab.research.google.com/github/RichardMedina9309/rmedinaExamen/blob/master/AbejasRL.ipynb\" target=\"_parent\"><img src=\"https://colab.research.google.com/assets/colab-badge.svg\" alt=\"Open In Colab\"/></a>"
      ]
    },
    {
      "cell_type": "code",
      "execution_count": 2,
      "metadata": {
        "id": "AruS3pRbyrvm"
      },
      "outputs": [],
      "source": [
        "import numpy as np\n",
        "import pylab as plt"
      ]
    },
    {
      "cell_type": "markdown",
      "source": [
        "Lista de puntos en los que se van a mover"
      ],
      "metadata": {
        "id": "xSuenyzO0zX5"
      }
    },
    {
      "cell_type": "code",
      "source": [
        "listaPuntos = [(0,1), (1,5), (5,6), (5,4), (1,2), (2,3), (2,7)]  #rutas al panas u objetivo "
      ],
      "metadata": {
        "id": "ZyEUmJUa0124"
      },
      "execution_count": 3,
      "outputs": []
    },
    {
      "cell_type": "markdown",
      "source": [
        "Dibujar los puntos"
      ],
      "metadata": {
        "id": "erY1xDN71Ncv"
      }
    },
    {
      "cell_type": "code",
      "source": [
        "objetivo = 7\n",
        "import networkx as nx               #Libreria de redes de graphos\n",
        "\n",
        "g = nx.Graph()\n",
        "g.add_edges_from(listaPuntos)\n",
        "pos = nx.spring_layout(g)\n",
        "\n",
        "nx.draw_networkx_nodes(g, pos)       #Organizar nodos, uniones y etiquetas.\n",
        "nx.draw_networkx_edges(g, pos)\n",
        "nx.draw_networkx_labels(g, pos)\n",
        "\n",
        "plt.show()"
      ],
      "metadata": {
        "colab": {
          "base_uri": "https://localhost:8080/",
          "height": 406
        },
        "id": "04GGUX7V1MZz",
        "outputId": "fdb22a66-e381-425e-8249-6f78307db036"
      },
      "execution_count": 4,
      "outputs": [
        {
          "output_type": "display_data",
          "data": {
            "text/plain": [
              "<Figure size 640x480 with 1 Axes>"
            ],
            "image/png": "[encoded data removed]"
          },
          "metadata": {}
        }
      ]
    },
    {
      "cell_type": "code",
      "source": [
        "  MATRIX_SIZE = 8                 #Máximo número de puntos"
      ],
      "metadata": {
        "id": "1SHwF7CE24M7"
      },
      "execution_count": 16,
      "outputs": []
    },
    {
      "cell_type": "code",
      "source": [
        "R =  np.matrix(np.ones(shape=(MATRIX_SIZE, MATRIX_SIZE)))    #Matriz de 8x8  de 1nos"
      ],
      "metadata": {
        "id": "re18JWs43lPE"
      },
      "execution_count": 17,
      "outputs": []
    },
    {
      "cell_type": "code",
      "source": [
        "R *= -1                                                       #MAtríz con pura pérdida"
      ],
      "metadata": {
        "id": "EZo4xBBQ31q6"
      },
      "execution_count": 12,
      "outputs": []
    },
    {
      "cell_type": "code",
      "source": [
        "for punto in listaPuntos:\n",
        "  print(punto)\n",
        "  if punto[1] == objetivo:\n",
        "    R[punto] = 100 \n",
        "  else:\n",
        "      R[punto] = 0\n",
        "\n",
        "  if punto[0] == objetivo:\n",
        "    R[punto[:: -1]] = 100\n",
        "  else:\n",
        "      R[punto[::-1]] = 0\n",
        "\n",
        "R [objetivo, objetivo] = 100          "
      ],
      "metadata": {
        "id": "F9ciAQ9x3-jQ"
      },
      "execution_count": null,
      "outputs": []
    },
    {
      "cell_type": "code",
      "source": [
        "R"
      ],
      "metadata": {
        "id": "sWAVQg5M6xT3"
      },
      "execution_count": null,
      "outputs": []
    },
    {
      "cell_type": "code",
      "source": [
        "Q = np.matrix(np.zeros([MATRIX_SIZE, MATRIX_SIZE]))\n",
        "gama = 0.8\n",
        "estadoInicial = 1"
      ],
      "metadata": {
        "id": "p_iZ90R86yLV"
      },
      "execution_count": 33,
      "outputs": []
    },
    {
      "cell_type": "code",
      "source": [
        "def accionesPosibles(estado):\n",
        "  estadoActual_fila = R[estado]\n",
        "  acAvance = np.where(estadoActual_fila>0) [1]\n",
        "\n",
        "  return acAvance"
      ],
      "metadata": {
        "id": "2XSJN_Kp699W"
      },
      "execution_count": 22,
      "outputs": []
    },
    {
      "cell_type": "code",
      "source": [
        "acDisponible = accionesPosibles(estadoInicial)"
      ],
      "metadata": {
        "id": "BKgryGa87pij"
      },
      "execution_count": 24,
      "outputs": []
    },
    {
      "cell_type": "code",
      "source": [
        "def pruebSiguienteAccion(rangoAccionesPosibles):\n",
        "  acSiguiente = int(np.random.choice(acDisponible,1))\n",
        "  return acSiguiente"
      ],
      "metadata": {
        "id": "uz3v38nL78Wq"
      },
      "execution_count": 31,
      "outputs": []
    },
    {
      "cell_type": "code",
      "source": [
        "accion = pruebSiguienteAccion(acDisponible)"
      ],
      "metadata": {
        "id": "SeX9D3Br8d8O"
      },
      "execution_count": 32,
      "outputs": []
    },
    {
      "cell_type": "code",
      "source": [
        "def actualizar(estadoActual, accion, gama):\n",
        "  indiceMayor = np.where(Q[accion, ] == np.max(Q[accion, ]))[1]\n",
        "\n",
        "  if indiceMayor.shape[0] > 1:\n",
        "    indiceMayor = int(np.random.choice(indiceMayor, sice = 1))\n",
        "  else:\n",
        "    indiceMayor = int (indiceMayor)\n",
        "\n",
        "  valorMaximo = Q[accion, indiceMayor]\n",
        "\n",
        "  Q[estadoActual, accion] = R[estadoActual, accion] + gamma*valorMaximo\n",
        "\n",
        "  print('Valor máximo', R[estadoActual, accion] + gamma*valorMaximo)\n",
        "\n",
        "  if(np.max(Q)>0):\n",
        "    return(np.sum(Q/np.max(Q)*100))\n",
        "  else:\n",
        "    return 0   "
      ],
      "metadata": {
        "id": "AXuDlJUb84Ok"
      },
      "execution_count": 37,
      "outputs": []
    },
    {
      "cell_type": "code",
      "source": [
        "actualizar(estadoInicial, accion, gama)"
      ],
      "metadata": {
        "id": "KR0n-7Ur_RsM"
      },
      "execution_count": null,
      "outputs": []
    },
    {
      "cell_type": "code",
      "source": [
        "#eNTRENAR\n",
        "\n",
        "puntajes = []\n",
        "\n",
        "for i in range(700):\n",
        "  estadoActual = np.random.randint(0, int(Q.shape[0]))\n",
        "  acDisponible = accionesPosibles(estadoActual)\n",
        "  accion = pruebSiguienteAccion(acDisponible) \n",
        "  puntaje = actualizar(estadoActual, accion, gama)\n",
        "  puntajes.append(puntaje)\n",
        "\n",
        "print(\"Matriz Q, entrenada!!\")\n",
        "\n",
        "print(Q/np.max(Q)*100)"
      ],
      "metadata": {
        "id": "nOrjxFroAH1G"
      },
      "execution_count": null,
      "outputs": []
    },
    {
      "cell_type": "markdown",
      "source": [
        "Pruebas"
      ],
      "metadata": {
        "id": "jg4WepLzBjrs"
      }
    },
    {
      "cell_type": "code",
      "source": [
        "estadoActual = 0\n",
        "paso = [estadoActual]\n",
        "\n",
        "\n",
        "while estadoActual !=7\n",
        "  indiceSiguientePaso = np.where(Q[estadoActual, ] == np.max(Q[estadoActual, ]))[1]\n",
        "\n",
        "  if indiceSiguientePaso.shape[0] > 1 :\n",
        "    indiceSiguientePaso = int(np.random.choice(estadoActual, sice =1))\n",
        "  else:\n",
        "    indiceSiguientePaso = int(indiceSiguientePaso)\n",
        "\n",
        "  paso.append(indiceSiguientePaso)\n",
        "  estadoActual = indiceSiguientePaso\n",
        "\n",
        "print(\"El camino más eficiente: \")\n",
        "print(paso)\n",
        "\n",
        "plt.plot(puntajes)\n",
        "plt.show()\n"
      ],
      "metadata": {
        "id": "Ujq4ZSAhBjTU"
      },
      "execution_count": null,
      "outputs": []
    }
  ]
}